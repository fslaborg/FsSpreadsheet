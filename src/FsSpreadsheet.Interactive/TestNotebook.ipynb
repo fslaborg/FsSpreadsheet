{
 "cells": [
  {
   "attachments": {},
   "cell_type": "markdown",
   "metadata": {},
   "source": [
    "To reproduce the package, run `./Repack.ps1` in powershell. It will clean your cache in `~/.nuget/packages` and pack the library to `Plotly.NET/pkg` folder, which you should specify below (absolute paths only) in `#i` line.\n",
    "\n",
    "The version of the package is always `0.0.1-dev`."
   ]
  },
  {
   "cell_type": "code",
   "execution_count": 1,
   "metadata": {
    "dotnet_interactive": {
     "language": "fsharp"
    },
    "polyglot_notebook": {
     "kernelName": "fsharp"
    }
   },
   "outputs": [
    {
     "data": {
      "text/html": [
       "<div><div><strong>Restore sources</strong><ul><li><span> C:/Users/schne/source/repos/CSBiology/FsSpreadsheet/pkg</span></li></ul></div><div></div><div><strong>Installed Packages</strong><ul><li><span>FsSpreadsheet, 0.0.1-dev</span></li><li><span>FsSpreadsheet.ExcelIO, 0.0.1-dev</span></li><li><span>FsSpreadsheet.Interactive, 0.0.1-dev</span></li><li><span>Plotly.NET, 4.0.0</span></li></ul></div></div>"
      ]
     },
     "metadata": {},
     "output_type": "display_data"
    },
    {
     "data": {
      "text/plain": [
       "Loading extensions from `C:\\Users\\schne\\.nuget\\packages\\fsspreadsheet.interactive\\0.0.1-dev\\interactive-extensions\\dotnet\\FsSpreadsheet.Interactive.dll`"
      ]
     },
     "metadata": {},
     "output_type": "display_data"
    }
   ],
   "source": [
    "#r \"nuget:Plotly.NET\"\n",
    "#i \"nuget: C:/Users/schne/source/repos/CSBiology/FsSpreadsheet/pkg\"\n",
    "#r \"nuget: FsSpreadsheet, 0.0.1-dev\"\n",
    "#r \"nuget: FsSpreadsheet.ExcelIO, 0.0.1-dev\"\n",
    "#r \"nuget: FsSpreadsheet.Interactive, 0.0.1-dev\""
   ]
  },
  {
   "cell_type": "code",
   "execution_count": 7,
   "metadata": {
    "dotnet_interactive": {
     "language": "fsharp"
    }
   },
   "outputs": [
    {
     "data": {
      "text/html": [
       "<div><style>table, th, td { border: 1px solid black !important; text-align: left; border-collapse: collapse;}</style><h3>SwateTemplateMetadata</h3><table><thead><th></th><th>A</th><th>B</th><th>C</th><th>D</th></thead><tbody><tr><td>1</td><td>Id</td><td>cf1fb06f-d72e-43d9-be25-4ea6c25f03e2</td><td></td><td></td></tr><tr><td>2</td><td>Name</td><td>Protein extraction</td><td></td><td></td></tr><tr><td>3</td><td>Version</td><td>1.1.6</td><td></td><td></td></tr><tr><td>4</td><td>Description</td><td>This protocol focuses on lab works regarding protein extraction.</td><td></td><td></td></tr><tr><td>5</td><td>Organisation</td><td>DataPLANT</td><td></td><td></td></tr><tr><td>6</td><td>Table</td><td>annotationTableHeavyHusky91</td><td></td><td></td></tr><tr><td>7</td><td>#ER list</td><td></td><td></td><td></td></tr><tr><td>8</td><td>ER</td><td>PRIDE</td><td></td><td></td></tr><tr><td>9</td><td>ER Term Accession Number</td><td></td><td></td><td></td></tr><tr><td>10</td><td>ER Term Source REF</td><td></td><td></td><td></td></tr><tr><td>11</td><td>#TAGS list</td><td></td><td></td><td></td></tr><tr><td>12</td><td>Tags</td><td>Extraction</td><td>Protein</td><td>Proteomics</td></tr><tr><td>13</td><td>Tags Term Accession Number</td><td></td><td></td><td></td></tr><tr><td>14</td><td>Tags Term Source REF</td><td></td><td></td><td></td></tr><tr><td>15</td><td>#AUTHORS list</td><td></td><td></td><td></td></tr><tr><td>16</td><td>Authors Last Name</td><td>Maus</td><td>Brilhaus</td><td></td></tr><tr><td>17</td><td>Authors First Name</td><td>Oliver</td><td>Dominik</td><td></td></tr><tr><td>18</td><td>Authors Mid Initials</td><td></td><td></td><td></td></tr><tr><td>19</td><td>Authors Email</td><td></td><td></td><td></td></tr><tr><td>20</td><td>Authors Phone</td><td></td><td></td><td></td></tr><tr><td>21</td><td>Authors Fax</td><td></td><td></td><td></td></tr><tr><td>22</td><td>Authors Address</td><td></td><td></td><td></td></tr><tr><td>23</td><td>Authors Affiliation</td><td></td><td></td><td></td></tr><tr><td>24</td><td>Authors ORCID</td><td></td><td></td><td></td></tr><tr><td>25</td><td>Authors Role</td><td></td><td></td><td></td></tr><tr><td>26</td><td>Authors Role Term Accession Number</td><td></td><td></td><td></td></tr><tr><td>27</td><td>Authors Role Term Source REF</td><td></td><td></td><td></td></tr></tbody></table></div>"
      ]
     },
     "metadata": {},
     "output_type": "display_data"
    }
   ],
   "source": [
    "open FsSpreadsheet\n",
    "open FsSpreadsheet.DSL\n",
    "open Giraffe.ViewEngine\n",
    "let path_in = @\"Input.xlsx\"\n",
    "\n",
    "open FsSpreadsheet\n",
    "open FsSpreadsheet.ExcelIO\n",
    "\n",
    "// read\n",
    "\n",
    "/// This is the main type we will work on. All changes to mutable subtypes are reflected here.\n",
    "let file = FsSpreadsheet.FsWorkbook.fromXlsxFile(path_in)\n",
    "\n",
    "let ws = \n",
    "    file\n",
    "    |> FsSpreadsheet.FsWorkbook.getWorksheetByName \"SwateTemplateMetadata\"\n",
    "\n",
    "ws"
   ]
  },
  {
   "cell_type": "code",
   "execution_count": 4,
   "metadata": {
    "dotnet_interactive": {
     "language": "fsharp"
    },
    "polyglot_notebook": {
     "kernelName": "fsharp"
    }
   },
   "outputs": [],
   "source": [
    "let dummyWorkbook = new FsWorkbook()\n",
    "let dummyWorksheet1 = FsWorksheet(\"dummyWorksheet1\")\n",
    "let dummyFsCells =\n",
    "    [\n",
    "        FsCell.createWithDataType DataType.String 1 1 \"A1\"\n",
    "        FsCell.createWithDataType DataType.String 1 2 \"B1\"\n",
    "        FsCell.createWithDataType DataType.String 1 3 \"C1\"\n",
    "        FsCell.createWithDataType DataType.String 2 1 \"A2\"\n",
    "        FsCell.createWithDataType DataType.String 2 2 \"B2\"\n",
    "        FsCell.createWithDataType DataType.String 2 3 \"C2\"\n",
    "        FsCell.createWithDataType DataType.String 3 1 \"A3\"\n",
    "        FsCell.createWithDataType DataType.String 3 2 \"B3\"\n",
    "        FsCell.createWithDataType DataType.String 3 3 \"C3\"\n",
    "    ]\n",
    "dummyWorkbook.AddWorksheet dummyWorksheet1 |> ignore\n",
    "dummyWorksheet1.AddCells dummyFsCells |> ignore"
   ]
  },
  {
   "cell_type": "code",
   "execution_count": 12,
   "metadata": {
    "dotnet_interactive": {
     "language": "fsharp"
    },
    "polyglot_notebook": {
     "kernelName": "fsharp"
    }
   },
   "outputs": [
    {
     "data": {
      "text/plain": [
       "<div><h3>FsWorkbook with 1 worksheets:</h3><table><thead><tr><th>Worksheet</th></tr></thead><tbody><tr><td>dummyWorksheet1</td></tr></tbody></table></div>"
      ]
     },
     "metadata": {},
     "output_type": "display_data"
    }
   ],
   "source": [
    "FsSpreadsheet.Interactive.Formatters.formatWorkbook dummyWorkbook"
   ]
  },
  {
   "cell_type": "code",
   "execution_count": 5,
   "metadata": {
    "dotnet_interactive": {
     "language": "fsharp"
    },
    "polyglot_notebook": {
     "kernelName": "fsharp"
    }
   },
   "outputs": [
    {
     "data": {
      "text/plain": [
       "<div><h3>dummyWorksheet1</h3><table style=\"border: 1px solid;\" style=\"border-collapse: collapse;\" style=\"text-align: left;\"><thead><th style=\"border: 1px solid lightgray;\" style=\"border-collapse: collapse;\" style=\"text-align: left;\"></th><th style=\"border: 1px solid lightgray;\" style=\"border-collapse: collapse;\" style=\"text-align: left;\">A</th><th style=\"border: 1px solid lightgray;\" style=\"border-collapse: collapse;\" style=\"text-align: left;\">B</th><th style=\"border: 1px solid lightgray;\" style=\"border-collapse: collapse;\" style=\"text-align: left;\">C</th></thead><tbody><tr><td style=\"border: 1px solid lightgray;\" style=\"border-collapse: collapse;\" style=\"text-align: left;\">1</td><td style=\"border: 1px solid lightgray;\" style=\"border-collapse: collapse;\" style=\"text-align: left;\">A1</td><td style=\"border: 1px solid lightgray;\" style=\"border-collapse: collapse;\" style=\"text-align: left;\">B1</td><td style=\"border: 1px solid lightgray;\" style=\"border-collapse: collapse;\" style=\"text-align: left;\">C1</td></tr><tr><td style=\"border: 1px solid lightgray;\" style=\"border-collapse: collapse;\" style=\"text-align: left;\">2</td><td style=\"border: 1px solid lightgray;\" style=\"border-collapse: collapse;\" style=\"text-align: left;\">A2</td><td style=\"border: 1px solid lightgray;\" style=\"border-collapse: collapse;\" style=\"text-align: left;\">B2</td><td style=\"border: 1px solid lightgray;\" style=\"border-collapse: collapse;\" style=\"text-align: left;\">C2</td></tr><tr><td style=\"border: 1px solid lightgray;\" style=\"border-collapse: collapse;\" style=\"text-align: left;\">3</td><td style=\"border: 1px solid lightgray;\" style=\"border-collapse: collapse;\" style=\"text-align: left;\">A3</td><td style=\"border: 1px solid lightgray;\" style=\"border-collapse: collapse;\" style=\"text-align: left;\">B3</td><td style=\"border: 1px solid lightgray;\" style=\"border-collapse: collapse;\" style=\"text-align: left;\">C3</td></tr></tbody></table></div>"
      ]
     },
     "metadata": {},
     "output_type": "display_data"
    }
   ],
   "source": [
    "FsSpreadsheet.Interactive.Formatters.formatWorksheet dummyWorksheet1"
   ]
  }
 ],
 "metadata": {
  "kernelspec": {
   "display_name": ".NET (C#)",
   "language": "C#",
   "name": ".net-csharp"
  },
  "language_info": {
   "name": "polyglot-notebook"
  },
  "polyglot_notebook": {
   "kernelInfo": {
    "defaultKernelName": "csharp",
    "items": [
     {
      "aliases": [],
      "name": "csharp"
     },
     {
      "aliases": [
       "frontend"
      ],
      "name": "vscode"
     }
    ]
   }
  }
 },
 "nbformat": 4,
 "nbformat_minor": 2
}
